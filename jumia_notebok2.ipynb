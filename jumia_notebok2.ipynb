{
 "cells": [
  {
   "cell_type": "code",
   "execution_count": 1,
   "id": "e50be73f-25e6-4494-8969-fc705d02d635",
   "metadata": {},
   "outputs": [],
   "source": [
    "import requests\n",
    "from bs4 import BeautifulSoup\n",
    "import pandas as pd\n",
    "import time"
   ]
  },
  {
   "cell_type": "code",
   "execution_count": null,
   "id": "e1923b97-0885-4166-9da7-00f97a23fb1c",
   "metadata": {
    "scrolled": true
   },
   "outputs": [],
   "source": [
    "# Ask user for any Jumia category or search URL\n",
    "base_url = input(\"Paste any Jumia category or search URL: \").strip()\n",
    "\n",
    "headers = {\n",
    "    'User-Agent': 'Mozilla/5.0 (Windows NT 10.0; Win64; x64) AppleWebKit/537.36 (KHTML, like Gecko) Chrome/138.0.0.0 Safari/537.36'\n",
    "}\n",
    "# this headers = {'User-Agent':''} this will make the jumia site think the scrap request is comming from a normal user using a browser and not python or an AI\n",
    "\n",
    "all_products = []\n",
    "\n",
    "# Loop through multiple pages until no products found\n",
    "for page in range(1, 51):  # limit to 50 pages max\n",
    "    if \"?\" in base_url:\n",
    "        url = f\"{base_url}&page={page}\"\n",
    "    else:\n",
    "        url = f\"{base_url}?page={page}\"\n",
    "\n",
    "# so this says loop through the pages of the base_url, max 51 pages but as you loop through it,\n",
    "# check if there is a ? query parameter, if there is, add page to is and loop through all pages\n",
    "# up to 51, but if there is no query parameter ? so we start the query parameter with the page \n",
    "    \n",
    "    \n",
    "    print(f\"Scraping {url}\")\n",
    "    res = requests.get(url, headers=headers)\n",
    "    \n",
    "    if res.status_code != 200:\n",
    "        print(f\"Failed to load page {page}\")\n",
    "        break\n",
    "    \n",
    "    soup = BeautifulSoup(res.text, 'lxml')\n",
    "    products = soup.find_all('article', class_='prd')\n",
    "    \n",
    "    if not products:  # stop if no more products\n",
    "        break\n",
    "    \n",
    "    for product in products:\n",
    "        name_tag = product.find('h3', class_='name')\n",
    "        price_tag = product.find('div', class_='prc')\n",
    "        rating_tag = product.find('div', class_='stars _s')\n",
    "        \n",
    "        name = name_tag.text.strip() if name_tag else None\n",
    "        price_text = price_tag.text.strip().replace('₦', '').replace(',', '') if price_tag else None\n",
    "        price = int(price_text) if price_text and price_text.isdigit() else None\n",
    "        rating = rating_tag.text.strip() if rating_tag else None\n",
    "        \n",
    "        all_products.append({\n",
    "            \"Product Name\": name,\n",
    "            \"Price (NGN)\": price,\n",
    "            \"Rating\": rating\n",
    "        })\n",
    "    \n",
    "    time.sleep(1)  # polite delay\n",
    "\n",
    "# Create DataFrame\n",
    "df = pd.DataFrame(all_products)\n",
    "\n",
    "# Save to CSV\n",
    "df.to_csv(\"jumia_products.csv\", index=False)\n",
    "\n",
    "print(\"\\nScraping completed!\")\n",
    "print(df.head())"
   ]
  },
  {
   "cell_type": "code",
   "execution_count": null,
   "id": "0529b49f-bc2a-454a-b697-feda23eb6546",
   "metadata": {},
   "outputs": [],
   "source": []
  }
 ],
 "metadata": {
  "kernelspec": {
   "display_name": "Python 3 (ipykernel)",
   "language": "python",
   "name": "python3"
  },
  "language_info": {
   "codemirror_mode": {
    "name": "ipython",
    "version": 3
   },
   "file_extension": ".py",
   "mimetype": "text/x-python",
   "name": "python",
   "nbconvert_exporter": "python",
   "pygments_lexer": "ipython3",
   "version": "3.12.4"
  }
 },
 "nbformat": 4,
 "nbformat_minor": 5
}
